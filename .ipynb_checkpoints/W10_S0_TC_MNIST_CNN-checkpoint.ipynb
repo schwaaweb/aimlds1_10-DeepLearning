{
 "cells": [
  {
   "cell_type": "markdown",
   "metadata": {
    "colab_type": "text",
    "id": "view-in-github"
   },
   "source": [
    "[Lecture](https://youtu.be/AfqeI36IyM8)\n",
    "\n",
    "\n",
    "[View in Colaboratory](https://colab.research.google.com/github/schwaaweb/aimlds1_10-DeepLearning/blob/master/W10_S0_TC_MNIST_CNN.ipynb)"
   ]
  },
  {
   "cell_type": "code",
   "execution_count": 3,
   "metadata": {},
   "outputs": [
    {
     "name": "stderr",
     "output_type": "stream",
     "text": [
      "/Users/darwinm/anaconda3/lib/python3.6/site-packages/h5py/__init__.py:36: FutureWarning: Conversion of the second argument of issubdtype from `float` to `np.floating` is deprecated. In future, it will be treated as `np.float64 == np.dtype(float).type`.\n",
      "  from ._conv import register_converters as _register_converters\n",
      "Using TensorFlow backend.\n"
     ]
    }
   ],
   "source": [
    "#!conda install -c conda-forge keras --yes\n",
    "#from keras.datasets import mnist"
   ]
  },
  {
   "cell_type": "code",
   "execution_count": 5,
   "metadata": {
    "colab": {},
    "colab_type": "code",
    "id": "RjXybic7RdSU"
   },
   "outputs": [],
   "source": [
    "import numpy as np\n",
    "import matplotlib.pyplot as plt\n",
    "import keras\n",
    "from keras.datasets import mnist\n",
    "from keras.utils import to_categorical\n",
    "from keras.models import Sequential\n",
    "from keras.layers import Dense, Dropout, Flatten, Conv2D, MaxPooling2D\n",
    "from keras import backend as K\n",
    "from keras.wrappers.scikit_learn import KerasClassifier"
   ]
  },
  {
   "cell_type": "code",
   "execution_count": 9,
   "metadata": {
    "colab": {
     "base_uri": "https://localhost:8080/",
     "height": 84
    },
    "colab_type": "code",
    "id": "DbwLdB2WSJhM",
    "outputId": "fe07f93e-8bbc-4577-9a90-10ee119ab16b"
   },
   "outputs": [
    {
     "name": "stdout",
     "output_type": "stream",
     "text": [
      "(28, 28)\n",
      "channels_first\n"
     ]
    }
   ],
   "source": [
    "#%%time\n",
    "# the data, shuffled and split between train and test sets\n",
    "(x_train, y_train), (x_test, y_test) = mnist.load_data()\n",
    "\n",
    "# What are the dimensions of a single image?\n",
    "print(x_train[0].shape)      # <-----     print shape of data\n",
    "\n",
    "# input image dimensions\n",
    "img_rows, img_cols = 28,28\n",
    "\n",
    "if K.backend()=='tensorflow':\n",
    "    K.set_image_dim_ordering(\"th\")\n",
    "    \n",
    "print(K.image_data_format())\n",
    "\n",
    "if K.image_data_format() == 'channels_first':\n",
    "    x_train = x_train.reshape(x_train.shape[0], 1, img_rows, img_cols)\n",
    "    x_test = x_test.reshape(x_test.shape[0], 1, img_rows, img_cols)\n",
    "    input_shape = (1, img_rows, img_cols)\n",
    "else:\n",
    "    x_train = x_train.reshape(x_train.shape[0], img_rows, img_cols, 1)\n",
    "    x_test = x_test.reshape(x_test.shape[0], img_rows, img_cols, 1)\n",
    "    input_shape = (img_rows, img_cols, 1)\n",
    "\n",
    "#Only look at 2s and 7s\n",
    "num_classes = 2\n",
    "\n",
    "# Create boolean arrays for train and test\n",
    "train_picks = np.logical_or(y_train==2,y_train==7)\n",
    "test_picks = np.logical_or(y_test==2,y_test==7)\n",
    "\n",
    "# Filter train and test based on boolean arrays\n",
    "x_train = x_train[train_picks]\n",
    "x_test = x_test[test_picks]\n",
    "y_train = np.array(y_train[train_picks]==7,dtype=int)\n",
    "y_test = np.array(y_test[test_picks]==7,dtype=int)"
   ]
  },
  {
   "cell_type": "code",
   "execution_count": 10,
   "metadata": {
    "colab": {
     "base_uri": "https://localhost:8080/",
     "height": 67
    },
    "colab_type": "code",
    "id": "Z5YH7i_MSW7d",
    "outputId": "141f2438-3cca-49f8-8fca-d3f0d8ba1b97"
   },
   "outputs": [
    {
     "name": "stdout",
     "output_type": "stream",
     "text": [
      "x_train shape: (12223, 1, 28, 28)\n",
      "12223 train samples\n",
      "2060 test samples\n",
      "CPU times: user 43.8 ms, sys: 67.6 ms, total: 111 ms\n",
      "Wall time: 188 ms\n"
     ]
    }
   ],
   "source": [
    "%%time\n",
    "# Scale pixel values to be floats between 0 and 1\n",
    "x_train = x_train.astype('float32')\n",
    "x_test = x_test.astype('float32')\n",
    "x_train /= 255\n",
    "x_test /= 255\n",
    "\n",
    "print('x_train shape:', x_train.shape)\n",
    "print(x_train.shape[0], 'train samples')\n",
    "print(x_test.shape[0], 'test samples')\n",
    "\n",
    "# convert class vectors to binary class matrices\n",
    "y_train = to_categorical(y_train, num_classes)\n",
    "y_test = to_categorical(y_test, num_classes)"
   ]
  },
  {
   "cell_type": "code",
   "execution_count": 11,
   "metadata": {
    "colab": {},
    "colab_type": "code",
    "id": "OYOixG5IVG0M"
   },
   "outputs": [
    {
     "name": "stdout",
     "output_type": "stream",
     "text": [
      "CPU times: user 153 ms, sys: 8.54 ms, total: 161 ms\n",
      "Wall time: 177 ms\n"
     ]
    }
   ],
   "source": [
    "%%time\n",
    "model = Sequential()\n",
    "model.add(Conv2D(4, kernel_size=(3, 3), activation='relu', input_shape=input_shape)) \n",
    "model.add(Conv2D(8, (3, 3), activation='relu'))\n",
    "model.add(MaxPooling2D(pool_size=(2, 2)))\n",
    "model.add(Dropout(0.25)) \n",
    "\n",
    "model.add(Flatten())\n",
    "model.add(Dense(16, activation='relu'))\n",
    "model.add(Dropout(0.5))\n",
    "model.add(Dense(2, activation='softmax'))\n",
    "\n",
    "model.compile(loss=keras.losses.categorical_crossentropy, optimizer=keras.optimizers.Adadelta(), metrics=['accuracy'])\n",
    "\n",
    "np.random.seed(42)"
   ]
  },
  {
   "cell_type": "code",
   "execution_count": 12,
   "metadata": {
    "colab": {
     "base_uri": "https://localhost:8080/",
     "height": 390
    },
    "colab_type": "code",
    "id": "CEJTA9MGVbpF",
    "outputId": "2e42b1ca-09f3-438e-bec8-987a384ba39a"
   },
   "outputs": [
    {
     "name": "stdout",
     "output_type": "stream",
     "text": [
      "Train on 12223 samples, validate on 2060 samples\n",
      "Epoch 1/10\n",
      "12223/12223 [==============================] - 44s 4ms/step - loss: 0.1075 - acc: 0.9637 - val_loss: 0.0959 - val_acc: 0.9757\n",
      "Epoch 2/10\n",
      "12223/12223 [==============================] - 65s 5ms/step - loss: 0.0663 - acc: 0.9807 - val_loss: 0.0744 - val_acc: 0.9820\n",
      "Epoch 3/10\n",
      "12223/12223 [==============================] - 79s 6ms/step - loss: 0.0542 - acc: 0.9833 - val_loss: 0.0849 - val_acc: 0.9820\n",
      "Epoch 4/10\n",
      "12223/12223 [==============================] - 58s 5ms/step - loss: 0.0553 - acc: 0.9843 - val_loss: 0.0671 - val_acc: 0.9845\n",
      "Epoch 5/10\n",
      "12223/12223 [==============================] - 47s 4ms/step - loss: 0.0514 - acc: 0.9853 - val_loss: 0.0551 - val_acc: 0.9840\n",
      "Epoch 6/10\n",
      "12223/12223 [==============================] - 48s 4ms/step - loss: 0.0456 - acc: 0.9858 - val_loss: 0.0598 - val_acc: 0.9850\n",
      "Epoch 7/10\n",
      "12223/12223 [==============================] - 57s 5ms/step - loss: 0.0472 - acc: 0.9849 - val_loss: 0.0496 - val_acc: 0.9864\n",
      "Epoch 8/10\n",
      "12223/12223 [==============================] - 55s 5ms/step - loss: 0.0428 - acc: 0.9881 - val_loss: 0.0549 - val_acc: 0.9874\n",
      "Epoch 9/10\n",
      "12223/12223 [==============================] - 73s 6ms/step - loss: 0.0381 - acc: 0.9881 - val_loss: 0.0602 - val_acc: 0.9864\n",
      "Epoch 10/10\n",
      "12223/12223 [==============================] - 69s 6ms/step - loss: 0.0394 - acc: 0.9877 - val_loss: 0.0438 - val_acc: 0.9879\n",
      "CPU times: user 9min 7s, sys: 38.7 s, total: 9min 46s\n",
      "Wall time: 9min 54s\n"
     ]
    }
   ],
   "source": [
    "%%time\n",
    "batch_size = 32\n",
    "epochs = 10\n",
    "\n",
    "fitted_model = model.fit(x_train, y_train, batch_size=batch_size, epochs=epochs, validation_data=(x_test, y_test), shuffle=True)"
   ]
  },
  {
   "cell_type": "code",
   "execution_count": null,
   "metadata": {
    "colab": {},
    "colab_type": "code",
    "id": "lud3Ug1VX9Hh"
   },
   "outputs": [],
   "source": []
  }
 ],
 "metadata": {
  "accelerator": "GPU",
  "colab": {
   "name": "W10_S0--TC--MNIST_CNN.ipynb",
   "provenance": [],
   "version": "0.3.2"
  },
  "kernelspec": {
   "display_name": "Python 3",
   "language": "python",
   "name": "python3"
  },
  "language_info": {
   "codemirror_mode": {
    "name": "ipython",
    "version": 3
   },
   "file_extension": ".py",
   "mimetype": "text/x-python",
   "name": "python",
   "nbconvert_exporter": "python",
   "pygments_lexer": "ipython3",
   "version": "3.6.4"
  }
 },
 "nbformat": 4,
 "nbformat_minor": 2
}
