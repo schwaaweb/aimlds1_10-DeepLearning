{
 "cells": [
  {
   "cell_type": "markdown",
   "metadata": {
    "colab_type": "text",
    "id": "view-in-github"
   },
   "source": [
    "[Lecture](https://youtu.be/AfqeI36IyM8)\n",
    "\n",
    "\n",
    "[View in Colaboratory](https://colab.research.google.com/github/schwaaweb/aimlds1_10-DeepLearning/blob/master/W10_S0_TC_MNIST_CNN.ipynb)"
   ]
  },
  {
   "cell_type": "code",
   "execution_count": null,
   "metadata": {
    "colab": {},
    "colab_type": "code",
    "id": "RjXybic7RdSU"
   },
   "outputs": [],
   "source": [
    "import numpy as np\n",
    "import matplotlib.pyplot as plt\n",
    "import keras\n",
    "from keras.datasets import mnist\n",
    "from keras.utils import to_categorical\n",
    "from keras.models import Sequential\n",
    "from keras.layers import Dense, Dropout, Flatten, Conv2D, MaxPooling2D\n",
    "from keras import backend as K\n",
    "from keras.wrappers.scikit_learn import KerasClassifier"
   ]
  },
  {
   "cell_type": "code",
   "execution_count": null,
   "metadata": {
    "colab": {
     "base_uri": "https://localhost:8080/",
     "height": 84
    },
    "colab_type": "code",
    "id": "DbwLdB2WSJhM",
    "outputId": "fe07f93e-8bbc-4577-9a90-10ee119ab16b"
   },
   "outputs": [
    {
     "name": "stdout",
     "output_type": "stream",
     "text": [
      "Downloading data from https://s3.amazonaws.com/img-datasets/mnist.npz\n",
      "11493376/11490434 [==============================] - 1s 0us/step\n",
      "(28, 28)\n",
      "channels_first\n"
     ]
    }
   ],
   "source": [
    "# the data, shuffled and split between train and test sets\n",
    "(x_train, y_train), (x_test, y_test) = mnist.load_data()\n",
    "\n",
    "# What are the dimensions of a single image?\n",
    "print(x_train[0].shape)\n",
    "\n",
    "# input image dimensions\n",
    "img_rows, img_cols = 28,28\n",
    "\n",
    "if K.backend()=='tensorflow':\n",
    "    K.set_image_dim_ordering(\"th\")\n",
    "    \n",
    "print(K.image_data_format())\n",
    "\n",
    "if K.image_data_format() == 'channels_first':\n",
    "    x_train = x_train.reshape(x_train.shape[0], 1, img_rows, img_cols)\n",
    "    x_test = x_test.reshape(x_test.shape[0], 1, img_rows, img_cols)\n",
    "    input_shape = (1, img_rows, img_cols)\n",
    "else:\n",
    "    x_train = x_train.reshape(x_train.shape[0], img_rows, img_cols, 1)\n",
    "    x_test = x_test.reshape(x_test.shape[0], img_rows, img_cols, 1)\n",
    "    input_shape = (img_rows, img_cols, 1)\n",
    "\n",
    "#Only look at 2s and 7s\n",
    "num_classes = 2\n",
    "\n",
    "# Create boolean arrays for train and test\n",
    "train_picks = np.logical_or(y_train==2,y_train==7)\n",
    "test_picks = np.logical_or(y_test==2,y_test==7)\n",
    "\n",
    "# Filter train and test based on boolean arrays\n",
    "x_train = x_train[train_picks]\n",
    "x_test = x_test[test_picks]\n",
    "y_train = np.array(y_train[train_picks]==7,dtype=int)\n",
    "y_test = np.array(y_test[test_picks]==7,dtype=int)"
   ]
  },
  {
   "cell_type": "code",
   "execution_count": null,
   "metadata": {
    "colab": {
     "base_uri": "https://localhost:8080/",
     "height": 67
    },
    "colab_type": "code",
    "id": "Z5YH7i_MSW7d",
    "outputId": "141f2438-3cca-49f8-8fca-d3f0d8ba1b97"
   },
   "outputs": [
    {
     "name": "stdout",
     "output_type": "stream",
     "text": [
      "x_train shape: (12223, 1, 28, 28)\n",
      "12223 train samples\n",
      "2060 test samples\n"
     ]
    }
   ],
   "source": [
    "# Scale pixel values to be floats between 0 and 1\n",
    "x_train = x_train.astype('float32')\n",
    "x_test = x_test.astype('float32')\n",
    "x_train /= 255\n",
    "x_test /= 255\n",
    "\n",
    "print('x_train shape:', x_train.shape)\n",
    "print(x_train.shape[0], 'train samples')\n",
    "print(x_test.shape[0], 'test samples')\n",
    "\n",
    "# convert class vectors to binary class matrices\n",
    "y_train = to_categorical(y_train, num_classes)\n",
    "y_test = to_categorical(y_test, num_classes)"
   ]
  },
  {
   "cell_type": "code",
   "execution_count": null,
   "metadata": {
    "colab": {},
    "colab_type": "code",
    "id": "OYOixG5IVG0M"
   },
   "outputs": [],
   "source": [
    "model = Sequential()\n",
    "model.add(Conv2D(4, kernel_size=(3, 3), activation='relu', input_shape=input_shape)) \n",
    "model.add(Conv2D(8, (3, 3), activation='relu'))\n",
    "model.add(MaxPooling2D(pool_size=(2, 2)))\n",
    "model.add(Dropout(0.25)) \n",
    "\n",
    "model.add(Flatten())\n",
    "model.add(Dense(16, activation='relu'))\n",
    "model.add(Dropout(0.5))\n",
    "model.add(Dense(2, activation='softmax'))\n",
    "\n",
    "model.compile(loss=keras.losses.categorical_crossentropy, optimizer=keras.optimizers.Adadelta(), metrics=['accuracy'])\n",
    "\n",
    "np.random.seed(42)"
   ]
  },
  {
   "cell_type": "code",
   "execution_count": null,
   "metadata": {
    "colab": {
     "base_uri": "https://localhost:8080/",
     "height": 390
    },
    "colab_type": "code",
    "id": "CEJTA9MGVbpF",
    "outputId": "2e42b1ca-09f3-438e-bec8-987a384ba39a"
   },
   "outputs": [
    {
     "name": "stdout",
     "output_type": "stream",
     "text": [
      "Train on 12223 samples, validate on 2060 samples\n",
      "Epoch 1/10\n",
      "12223/12223 [==============================] - 5s 394us/step - loss: 0.1093 - acc: 0.9637 - val_loss: 0.0797 - val_acc: 0.9757\n",
      "Epoch 2/10\n",
      "12223/12223 [==============================] - 4s 296us/step - loss: 0.0641 - acc: 0.9816 - val_loss: 0.0639 - val_acc: 0.9811\n",
      "Epoch 3/10\n",
      "12223/12223 [==============================] - 4s 299us/step - loss: 0.0545 - acc: 0.9865 - val_loss: 0.0520 - val_acc: 0.9830\n",
      "Epoch 4/10\n",
      "12223/12223 [==============================] - 4s 296us/step - loss: 0.0456 - acc: 0.9881 - val_loss: 0.0475 - val_acc: 0.9850\n",
      "Epoch 5/10\n",
      " 1696/12223 [===>..........................] - ETA: 3s - loss: 0.0370 - acc: 0.990012223/12223 [==============================] - 4s 295us/step - loss: 0.0399 - acc: 0.9896 - val_loss: 0.0535 - val_acc: 0.9840\n",
      "Epoch 6/10\n",
      "12223/12223 [==============================] - 4s 295us/step - loss: 0.0372 - acc: 0.9904 - val_loss: 0.0393 - val_acc: 0.9883\n",
      "Epoch 7/10\n",
      "12223/12223 [==============================] - 4s 292us/step - loss: 0.0360 - acc: 0.9906 - val_loss: 0.0390 - val_acc: 0.9879\n",
      "Epoch 8/10\n",
      "12223/12223 [==============================] - 4s 301us/step - loss: 0.0321 - acc: 0.9910 - val_loss: 0.0315 - val_acc: 0.9903\n",
      "Epoch 9/10\n",
      " 6816/12223 [===============>..............] - ETA: 1s - loss: 0.0297 - acc: 0.992212223/12223 [==============================] - 4s 298us/step - loss: 0.0288 - acc: 0.9926 - val_loss: 0.0334 - val_acc: 0.9913\n",
      "Epoch 10/10\n",
      "12223/12223 [==============================] - 4s 301us/step - loss: 0.0277 - acc: 0.9924 - val_loss: 0.0278 - val_acc: 0.9922\n"
     ]
    }
   ],
   "source": [
    "batch_size = 32\n",
    "epochs = 10\n",
    "\n",
    "fitted_model = model.fit(x_train, y_train, batch_size=batch_size, epochs=epochs, validation_data=(x_test, y_test), shuffle=True)"
   ]
  },
  {
   "cell_type": "code",
   "execution_count": null,
   "metadata": {
    "colab": {},
    "colab_type": "code",
    "id": "lud3Ug1VX9Hh"
   },
   "outputs": [],
   "source": []
  }
 ],
 "metadata": {
  "accelerator": "GPU",
  "colab": {
   "name": "W10_S0--TC--MNIST_CNN.ipynb",
   "provenance": [],
   "version": "0.3.2"
  },
  "kernelspec": {
   "display_name": "Python 3",
   "language": "python",
   "name": "python3"
  },
  "language_info": {
   "codemirror_mode": {
    "name": "ipython",
    "version": 3
   },
   "file_extension": ".py",
   "mimetype": "text/x-python",
   "name": "python",
   "nbconvert_exporter": "python",
   "pygments_lexer": "ipython3",
   "version": "3.6.4"
  }
 },
 "nbformat": 4,
 "nbformat_minor": 2
}
